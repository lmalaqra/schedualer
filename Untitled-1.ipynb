{
 "cells": [
  {
   "cell_type": "code",
   "execution_count": 85,
   "id": "862e2b11",
   "metadata": {},
   "outputs": [],
   "source": [
    "import pandas as pd \n",
    "import matplotlib.pyplot as plt\n",
    "import re\n",
    "\n",
    "\n",
    "df=pd.read_excel(\"vr.xlsx\")"
   ]
  },
  {
   "cell_type": "code",
   "execution_count": 86,
   "id": "909182cf",
   "metadata": {},
   "outputs": [],
   "source": [
    "import re\n",
    "\n",
    "def clean_question(text):\n",
    "    if not isinstance(text, str):\n",
    "        return text  # skip non-strings (e.g., NaN)\n",
    "    \n",
    "    # Extract leading number\n",
    "    num_match = re.match(r\"(\\d+)\\.\", text)\n",
    "    if not num_match:\n",
    "        return text  # no leading number, return as is\n",
    "    \n",
    "    original_num = int(num_match.group(1))\n",
    "    new_num = original_num - 4  # subtract 4\n",
    "    \n",
    "    # Extract English question text before '['\n",
    "    english_text_match = re.search(r\"\\d+\\.\\s*(.*?)\\s*\\[\", text)\n",
    "    if english_text_match:\n",
    "        english_text = english_text_match.group(1).strip()\n",
    "    else:\n",
    "        after_num = text.split('.', 1)[1]\n",
    "        english_text = after_num.split('\\n')[0].strip()\n",
    "    \n",
    "    return f\"{new_num}. {english_text}\"\n",
    "\n",
    "# List your question columns here (or grab all columns if all are questions)\n",
    "question_cols = [col for col in df.columns if 'question' in col.lower()]\n",
    "\n",
    "# Apply to all question columns\n",
    "for col in question_cols:\n",
    "    df[col] = df[col].apply(clean_question)"
   ]
  },
  {
   "cell_type": "code",
   "execution_count": 87,
   "id": "74be990b",
   "metadata": {},
   "outputs": [],
   "source": [
    "S = df.iloc[:, 6:-1]\n",
    "\n",
    "\n",
    "\n",
    "reordered = [0,1,2,3,4,5,6,8,11,12,13,14,16,17,18,19,22,9,10,15,20,21,7]  # desired column indexes first\n",
    "all_indexes = list(range(len(df.columns)))\n",
    "\n",
    "# Add the rest, excluding the ones already chosen\n",
    "reordered += [i for i in all_indexes if i not in reordered]\n",
    "\n",
    "# Apply reordering\n",
    "df = df[df.columns[reordered]]\n",
    "\n",
    "\n"
   ]
  },
  {
   "cell_type": "code",
   "execution_count": 88,
   "id": "109b3355",
   "metadata": {},
   "outputs": [],
   "source": [
    "\n",
    "numeric_df = df.select_dtypes(include='number')\n",
    "\n",
    "# # Calculate mean, standard deviation, and IQR\n",
    "# summary = pd.DataFrame({\n",
    "#     'Mean': numeric_df.mean(),\n",
    "#     'SD': numeric_df.std(),\n",
    "#     'IQR': numeric_df.quantile(0.75) - numeric_df.quantile(0.25)\n",
    "# })\n",
    "\n",
    "# # Round values to 2 decimal places\n",
    "# summary = summary.round(2)\n",
    "\n",
    "# # Export to Excel\n",
    "# summary.to_excel(\"mean_sd_iqr_summary.xlsx\")\n",
    "# "
   ]
  },
  {
   "cell_type": "code",
   "execution_count": 89,
   "id": "ba95e798",
   "metadata": {},
   "outputs": [
    {
     "name": "stdout",
     "output_type": "stream",
     "text": [
      "        Mean ± SD\n",
      "use   5.93 ± 2.20\n",
      "pros  4.57 ± 3.20\n",
      "ease  4.42 ± 2.60\n"
     ]
    }
   ],
   "source": [
    "use_vals = df.iloc[6:16].select_dtypes(include='number').values.flatten()\n",
    "pros_vals = df.iloc[17:21].select_dtypes(include='number').values.flatten()\n",
    "ease_vals = pd.to_numeric(df.iloc[:, 22], errors='coerce')\n",
    "\n",
    "# Function to calculate mean ± SD\n",
    "def mean_sd(arr):\n",
    "    arr = pd.Series(arr).dropna()\n",
    "    return f\"{arr.mean():.2f} ± {arr.std():.2f}\"\n",
    "\n",
    "# Build results\n",
    "results = {\n",
    "    \"use\": mean_sd(use_vals),\n",
    "    \"pros\": mean_sd(pros_vals),\n",
    "    \"ease\": mean_sd(ease_vals)\n",
    "}\n",
    "\n",
    "# Create DataFrame & export\n",
    "summary_df = pd.DataFrame.from_dict(results, orient='index', columns=[\"Mean ± SD\"])\n",
    "summary_df.to_excel(\"categories_mean_sd.xlsx\")\n",
    "\n",
    "print(summary_df)"
   ]
  },
  {
   "cell_type": "code",
   "execution_count": 90,
   "id": "a13374cc",
   "metadata": {},
   "outputs": [],
   "source": [
    "# from scipy.stats import mannwhitneyu, kruskal\n",
    "\n",
    "# categorical_vars = ['gender', 'training level', 'vr experience', 'gamer']\n",
    "# numeric_df = df.select_dtypes(include='number')\n",
    "# likert_questions = numeric_df.columns.tolist()\n",
    "\n",
    "# # Prepare a list to collect rows for the output table\n",
    "# results = []\n",
    "\n",
    "# for cat_var in categorical_vars:\n",
    "#     for question in likert_questions:\n",
    "#         sub_df = df.dropna(subset=[cat_var, question])\n",
    "#         groups = sub_df.groupby(cat_var)[question]\n",
    "#         group_lists = [grp.values for name, grp in groups]\n",
    "        \n",
    "#         if len(group_lists) == 0:\n",
    "#             continue\n",
    "        \n",
    "#         # Prepare mean ± SD strings per group\n",
    "#         group_stats = {name: f\"{grp.mean():.2f} ± {grp.std():.2f}\" for name, grp in groups}\n",
    "        \n",
    "#         # Run test if enough groups\n",
    "#         if len(group_lists) == 2:\n",
    "#             stat, p = mannwhitneyu(group_lists[0], group_lists[1], alternative='two-sided')\n",
    "#             test_name = \"Mann-Whitney U\"\n",
    "#         elif len(group_lists) > 2:\n",
    "#             stat, p = kruskal(*group_lists)\n",
    "#             test_name = \"Kruskal-Wallis\"\n",
    "#         else:\n",
    "#             continue  # Skip if not enough groups\n",
    "        \n",
    "#         sig_star = \"*\" if p < 0.05 else \"\"\n",
    "        \n",
    "#         # Build a single row dictionary\n",
    "#         row = {\n",
    "#             'Categorical Variable': cat_var,\n",
    "#             'Question': question,\n",
    "#             'Test': test_name,\n",
    "#             'p-value': round(p, 4),\n",
    "#             'Significant': sig_star\n",
    "#         }\n",
    "        \n",
    "#         # Add mean ± SD per group as separate columns\n",
    "#         for group_name, stats_str in group_stats.items():\n",
    "#             row[f\"Mean ± SD ({group_name})\"] = stats_str\n",
    "        \n",
    "#         results.append(row)\n",
    "\n",
    "# # Convert to DataFrame\n",
    "# results_df = pd.DataFrame(results)\n",
    "\n",
    "# # Optional: reorder columns (put categorical, question, test, p-value, sig first)\n",
    "# fixed_cols = ['Categorical Variable', 'Question', 'Test', 'p-value', 'Significant']\n",
    "# other_cols = [col for col in results_df.columns if col not in fixed_cols]\n",
    "# results_df = results_df[fixed_cols + other_cols]\n",
    "\n",
    "# # Export to Excel\n",
    "# results_df.to_excel(\"likert_analysis_results.xlsx\", index=False)\n",
    "# print(\"Results exported to likert_analysis_results.xlsx\")"
   ]
  },
  {
   "cell_type": "code",
   "execution_count": 91,
   "id": "acba30fc",
   "metadata": {},
   "outputs": [
    {
     "name": "stderr",
     "output_type": "stream",
     "text": [
      "/Users/laith/devs/vr-analysis/.venv/lib/python3.13/site-packages/sklearn/utils/deprecation.py:132: FutureWarning: 'force_all_finite' was renamed to 'ensure_all_finite' in 1.6 and will be removed in 1.8.\n",
      "  warnings.warn(\n"
     ]
    },
    {
     "data": {
      "image/png": "[encoded data removed]",
      "text/plain": [
       "<Figure size 640x480 with 1 Axes>"
      ]
     },
     "metadata": {},
     "output_type": "display_data"
    },
    {
     "name": "stdout",
     "output_type": "stream",
     "text": [
      "                                                    Main Factor  Max Loading\n",
      "5.  The VR system is easy to use.  [Single choi...            1     1.000000\n",
      "7. I truly perceive the touch and vibration in ...            2     2.000000\n",
      "10. The 1-hour VR training is enough for me to ...            1     1.000000\n",
      "11. The VR system is conducive to encourage me ...            0     0.782772\n",
      "12. The application of VR system makes learning...            0     0.753561\n",
      "13. VR system makes the learning more efficient...            0     0.856163\n",
      "15. Generally, I think that the VR experience i...            0     0.847253\n",
      "16. Regarding to the content of this module, I ...            0     0.766645\n",
      "17. VR system is very suitable for implementing...            0     0.849976\n",
      "18. From my experience in utilizing VR system t...            0     0.781319\n",
      "21. After experiencing VR system, I expect that...            0     0.709887\n",
      "8. VR helps me to accurately understand and pra...            0     0.706860\n",
      "9. I repeatedly experienced this operation just...            2     2.000000\n",
      "14. In regard to learning outcome, I think that...            0     0.754064\n",
      "19. I think that the traditional practical teac...            0     0.548316\n",
      "20. I would like to spend more time studying de...            0     0.768131\n",
      "6. I am able to study and master VR training pr...            1     1.000000\n",
      "Factor loadings with main factor assignment exported to 'factor_loadings_3factors.xlsx'\n"
     ]
    },
    {
     "name": "stderr",
     "output_type": "stream",
     "text": [
      "/Users/laith/devs/vr-analysis/.venv/lib/python3.13/site-packages/sklearn/utils/deprecation.py:132: FutureWarning: 'force_all_finite' was renamed to 'ensure_all_finite' in 1.6 and will be removed in 1.8.\n",
      "  warnings.warn(\n"
     ]
    }
   ],
   "source": [
    "from factor_analyzer import FactorAnalyzer\n",
    "import matplotlib.pyplot as plt\n",
    "\n",
    "# Select numeric columns (Likert questions)\n",
    "numeric_df = df.select_dtypes(include='number')\n",
    "\n",
    "# Step 1: Optional scree plot to visualize eigenvalues\n",
    "fa = FactorAnalyzer(rotation=None)\n",
    "fa.fit(numeric_df)\n",
    "ev, _ = fa.get_eigenvalues()\n",
    "\n",
    "plt.plot(range(1, len(ev)+1), ev, marker='o')\n",
    "plt.xlabel('Factor Number')\n",
    "plt.ylabel('Eigenvalue')\n",
    "plt.title('Scree Plot')\n",
    "plt.axhline(1, color='red', linestyle='--')\n",
    "plt.show()\n",
    "\n",
    "# Step 2: Run factor analysis with 3 factors and varimax rotation\n",
    "fa = FactorAnalyzer(n_factors=3, rotation='varimax')\n",
    "fa.fit(numeric_df)\n",
    "\n",
    "# Step 3: Get factor loadings\n",
    "loadings = pd.DataFrame(fa.loadings_, index=numeric_df.columns)\n",
    "\n",
    "# Step 4: Assign each question to the factor with highest absolute loading\n",
    "loadings['Main Factor'] = loadings.abs().idxmax(axis=1)\n",
    "\n",
    "# Optional: Filter questions with low max loading (<0.4)\n",
    "loadings['Max Loading'] = loadings.abs().max(axis=1)\n",
    "filtered_loadings = loadings[loadings['Max Loading'] >= 0.4]\n",
    "\n",
    "print(filtered_loadings[['Main Factor', 'Max Loading']])\n",
    "\n",
    "# Step 5: Export to Excel\n",
    "filtered_loadings.to_excel('factor_loadings_3factors.xlsx')\n",
    "print(\"Factor loadings with main factor assignment exported to 'factor_loadings_3factors.xlsx'\")"
   ]
  },
  {
   "cell_type": "code",
   "execution_count": 92,
   "id": "d7985fdd",
   "metadata": {},
   "outputs": [
    {
     "name": "stdout",
     "output_type": "stream",
     "text": [
      "                                                   Main Factor  Max Loading\n",
      "5.  The VR system is easy to use.  [Single choi...           1     0.978739\n",
      "7. I truly perceive the touch and vibration in ...           2     0.616515\n",
      "10. The 1-hour VR training is enough for me to ...           1     0.314361\n",
      "11. The VR system is conducive to encourage me ...           0     0.782772\n",
      "12. The application of VR system makes learning...           0     0.753561\n",
      "13. VR system makes the learning more efficient...           0     0.856163\n",
      "15. Generally, I think that the VR experience i...           0     0.847253\n",
      "16. Regarding to the content of this module, I ...           0     0.766645\n",
      "17. VR system is very suitable for implementing...           0     0.849976\n",
      "18. From my experience in utilizing VR system t...           0     0.781319\n",
      "21. After experiencing VR system, I expect that...           0     0.709887\n",
      "8. VR helps me to accurately understand and pra...           0     0.706860\n",
      "9. I repeatedly experienced this operation just...           2     0.455984\n",
      "14. In regard to learning outcome, I think that...           0     0.754064\n",
      "19. I think that the traditional practical teac...           0     0.548316\n",
      "20. I would like to spend more time studying de...           0     0.768131\n",
      "6. I am able to study and master VR training pr...           1     0.372808\n",
      "Factor loadings exported to 'factor_loadings_3factors_final.xlsx'\n"
     ]
    },
    {
     "name": "stderr",
     "output_type": "stream",
     "text": [
      "/Users/laith/devs/vr-analysis/.venv/lib/python3.13/site-packages/sklearn/utils/deprecation.py:132: FutureWarning: 'force_all_finite' was renamed to 'ensure_all_finite' in 1.6 and will be removed in 1.8.\n",
      "  warnings.warn(\n"
     ]
    }
   ],
   "source": [
    "from sklearn.preprocessing import StandardScaler\n",
    "\n",
    "scaler = StandardScaler()\n",
    "numeric_scaled = scaler.fit_transform(numeric_df)\n",
    "\n",
    "fa = FactorAnalyzer(n_factors=3, rotation='varimax')\n",
    "fa.fit(numeric_scaled)\n",
    "\n",
    "loadings = pd.DataFrame(fa.loadings_, index=numeric_df.columns)\n",
    "\n",
    "loadings['Max Loading'] = loadings.abs().max(axis=1)\n",
    "loadings['Main Factor'] = loadings.abs().idxmax(axis=1)\n",
    "\n",
    "filtered_loadings = loadings[loadings['Max Loading'] <= 1]  # Filter out >1 if any persist\n",
    "\n",
    "print(filtered_loadings[['Main Factor', 'Max Loading']])\n",
    "\n",
    "filtered_loadings.to_excel('factor_loadings_3factors_final.xlsx')\n",
    "print(\"Factor loadings exported to 'factor_loadings_3factors_final.xlsx'\")"
   ]
  },
  {
   "cell_type": "code",
   "execution_count": 93,
   "id": "bf980c57",
   "metadata": {},
   "outputs": [
    {
     "name": "stdout",
     "output_type": "stream",
     "text": [
      "Masked factor loadings exported to 'factor_loadings_3factors_masked.xlsx'\n"
     ]
    },
    {
     "name": "stderr",
     "output_type": "stream",
     "text": [
      "/var/folders/46/v_5pwjsj059_czr67r3jcllh0000gn/T/ipykernel_9644/134442997.py:5: FutureWarning: DataFrame.applymap has been deprecated. Use DataFrame.map instead.\n",
      "  filtered_loadings_masked.loc[:, filtered_loadings.columns[:-2]] = filtered_loadings_masked.iloc[:, :-2].applymap(\n"
     ]
    }
   ],
   "source": [
    "import numpy as np\n",
    "\n",
    "# Replace loadings with absolute value less than 0.4 by NaN\n",
    "filtered_loadings_masked = filtered_loadings.copy()\n",
    "filtered_loadings_masked.loc[:, filtered_loadings.columns[:-2]] = filtered_loadings_masked.iloc[:, :-2].applymap(\n",
    "    lambda x: x if abs(x) >= 0.35 else np.nan\n",
    ")\n",
    "\n",
    "# Export the masked loadings\n",
    "filtered_loadings_masked.to_excel('factor_loadings_3factors_masked.xlsx')\n",
    "print(\"Masked factor loadings exported to 'factor_loadings_3factors_masked.xlsx'\")"
   ]
  },
  {
   "cell_type": "code",
   "execution_count": 94,
   "id": "c9f90877",
   "metadata": {},
   "outputs": [
    {
     "name": "stdout",
     "output_type": "stream",
     "text": [
      "Exported factor loadings with variance row to 'factor_loadings_with_variance_row.xlsx'\n"
     ]
    }
   ],
   "source": [
    "variance = fa.get_factor_variance()\n",
    "variance_percent = variance[1] * 100  # Proportion Variance * 100\n",
    "\n",
    "# Create a DataFrame row for variance percentages\n",
    "variance_row = pd.DataFrame([variance_percent], columns=filtered_loadings.columns[:-2])\n",
    "\n",
    "# Fill the 'Main Factor' and 'Max Loading' columns with labels or NaN\n",
    "variance_row['Main Factor'] = 'Variance Explained (%)'\n",
    "variance_row['Max Loading'] = ''\n",
    "\n",
    "# Append the variance row to the filtered_loadings DataFrame\n",
    "final_df = pd.concat([filtered_loadings, variance_row], ignore_index=True)\n",
    "\n",
    "# Export to Excel\n",
    "final_df.to_excel('factor_loadings_with_variance_row.xlsx', index=False)\n",
    "\n",
    "print(\"Exported factor loadings with variance row to 'factor_loadings_with_variance_row.xlsx'\")"
   ]
  }
 ],
 "metadata": {
  "kernelspec": {
   "display_name": ".venv",
   "language": "python",
   "name": "python3"
  },
  "language_info": {
   "codemirror_mode": {
    "name": "ipython",
    "version": 3
   },
   "file_extension": ".py",
   "mimetype": "text/x-python",
   "name": "python",
   "nbconvert_exporter": "python",
   "pygments_lexer": "ipython3",
   "version": "3.13.1"
  }
 },
 "nbformat": 4,
 "nbformat_minor": 5
}
